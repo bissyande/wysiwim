{
 "cells": [
  {
   "cell_type": "code",
   "execution_count": 1,
   "metadata": {},
   "outputs": [],
   "source": [
    "import pandas as pd\n",
    "import os"
   ]
  },
  {
   "cell_type": "code",
   "execution_count": 2,
   "metadata": {},
   "outputs": [],
   "source": [
    "def read_file_as_string(path):\n",
    "    with open(path, 'r', encoding=\"utf8\", errors=\"ignore\") as file:\n",
    "        return file.read()"
   ]
  },
  {
   "cell_type": "code",
   "execution_count": 3,
   "metadata": {},
   "outputs": [],
   "source": [
    "programs_path = \"OJClone/ProgramData\"\n",
    "df_raw = []\n",
    "for func_dir in os.listdir(programs_path):\n",
    "    functionality = int(func_dir)\n",
    "    for code_file in os.listdir(programs_path + \"/\" + func_dir):\n",
    "        code_id = int(code_file[:-4])\n",
    "        code = read_file_as_string(programs_path + \"/\" + func_dir + \"/\" + code_file)\n",
    "        cid = \"c_%s_%s\" % (functionality, code_id)\n",
    "        df_raw.append((cid, functionality, code_id, code))\n",
    "        \n",
    "df = pd.DataFrame(df_raw).infer_objects()    "
   ]
  },
  {
   "cell_type": "code",
   "execution_count": null,
   "metadata": {},
   "outputs": [],
   "source": []
  },
  {
   "cell_type": "code",
   "execution_count": 4,
   "metadata": {},
   "outputs": [
    {
     "name": "stdout",
     "output_type": "stream",
     "text": [
      "          0   1    2                                                  3\n",
      "0  c_51_890  51  890  int main()\\n{\\n    int n;\\n    int i,j,k;\\n   ...\n",
      "1  c_51_889  51  889  \\n\\nint main( )\\n{\\nint n;\\nchar s[600];\\nscan...\n",
      "2  c_51_162  51  162  void main()\\n{\\n\\tint len,n,i,j,k,f,m,max,t,q[...\n",
      "3  c_51_362  51  362  int main()\\n{\\n\\tint n;\\n\\tchar str[500];\\n\\ts...\n",
      "4  c_51_403  51  403  int main(){\\n\\tint n,a[500],i,j,k,t,max;\\n\\tch...\n",
      "Index(['id', 'cid', 'func', 'code'], dtype='object')\n",
      "         id  cid  func                                               code\n",
      "0  c_51_890   51   890  int main()\\n{\\n    int n;\\n    int i,j,k;\\n   ...\n",
      "1  c_51_889   51   889  \\n\\nint main( )\\n{\\nint n;\\nchar s[600];\\nscan...\n",
      "2  c_51_162   51   162  void main()\\n{\\n\\tint len,n,i,j,k,f,m,max,t,q[...\n",
      "3  c_51_362   51   362  int main()\\n{\\n\\tint n;\\n\\tchar str[500];\\n\\ts...\n",
      "4  c_51_403   51   403  int main(){\\n\\tint n,a[500],i,j,k,t,max;\\n\\tch...\n"
     ]
    }
   ],
   "source": [
    "df.columns = [\"id\", \"func\", \"cid\", \"code\"]\n",
    "df.set_index(\"id\")"
   ]
  },
  {
   "cell_type": "code",
   "execution_count": 5,
   "metadata": {},
   "outputs": [],
   "source": [
    "df.to_csv(\"clone_classification/datasets/fragments.csv\")"
   ]
  }
 ],
 "metadata": {
  "kernelspec": {
   "display_name": "Python 3",
   "language": "python",
   "name": "python3"
  },
  "language_info": {
   "codemirror_mode": {
    "name": "ipython",
    "version": 3
   },
   "file_extension": ".py",
   "mimetype": "text/x-python",
   "name": "python",
   "nbconvert_exporter": "python",
   "pygments_lexer": "ipython3",
   "version": "3.6.8"
  }
 },
 "nbformat": 4,
 "nbformat_minor": 2
}
